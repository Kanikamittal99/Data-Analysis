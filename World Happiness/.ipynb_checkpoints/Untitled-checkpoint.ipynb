{
 "cells": [
  {
   "cell_type": "code",
   "execution_count": 1,
   "metadata": {},
   "outputs": [],
   "source": [
    "import numpy as np\n",
    "import pandas as pd\n",
    "import matplotlib.pyplot as plt \n",
    "import seaborn as sns"
   ]
  },
  {
   "cell_type": "code",
   "execution_count": 2,
   "metadata": {},
   "outputs": [],
   "source": [
    "%matplotlib inline"
   ]
  },
  {
   "cell_type": "code",
   "execution_count": 3,
   "metadata": {},
   "outputs": [],
   "source": [
    "df_2015 = pd.read_csv('2015.csv')\n",
    "df_2016 = pd.read_csv('2016.csv')\n",
    "df_2017 = pd.read_csv('2017.csv')\n"
   ]
  },
  {
   "cell_type": "code",
   "execution_count": 6,
   "metadata": {},
   "outputs": [
    {
     "data": {
      "text/plain": [
       "Index(['Country', 'Happiness.Rank', 'Happiness.Score', 'Whisker.high',\n",
       "       'Whisker.low', 'Economy..GDP.per.Capita.', 'Family',\n",
       "       'Health..Life.Expectancy.', 'Freedom', 'Generosity',\n",
       "       'Trust..Government.Corruption.', 'Dystopia.Residual'],\n",
       "      dtype='object')"
      ]
     },
     "execution_count": 6,
     "metadata": {},
     "output_type": "execute_result"
    }
   ],
   "source": [
    "df_2017.columns"
   ]
  },
  {
   "cell_type": "code",
   "execution_count": 18,
   "metadata": {},
   "outputs": [
    {
     "data": {
      "text/html": [
       "<div>\n",
       "<style scoped>\n",
       "    .dataframe tbody tr th:only-of-type {\n",
       "        vertical-align: middle;\n",
       "    }\n",
       "\n",
       "    .dataframe tbody tr th {\n",
       "        vertical-align: top;\n",
       "    }\n",
       "\n",
       "    .dataframe thead th {\n",
       "        text-align: right;\n",
       "    }\n",
       "</style>\n",
       "<table border=\"1\" class=\"dataframe\">\n",
       "  <thead>\n",
       "    <tr style=\"text-align: right;\">\n",
       "      <th></th>\n",
       "      <th></th>\n",
       "      <th>GDP</th>\n",
       "      <th>Family</th>\n",
       "      <th>Life</th>\n",
       "      <th>Freedom</th>\n",
       "      <th>Generosity</th>\n",
       "      <th>Trust</th>\n",
       "      <th>Happiness Score</th>\n",
       "      <th>target</th>\n",
       "      <th>target_n</th>\n",
       "    </tr>\n",
       "    <tr>\n",
       "      <th>Country</th>\n",
       "      <th>Year</th>\n",
       "      <th></th>\n",
       "      <th></th>\n",
       "      <th></th>\n",
       "      <th></th>\n",
       "      <th></th>\n",
       "      <th></th>\n",
       "      <th></th>\n",
       "      <th></th>\n",
       "      <th></th>\n",
       "    </tr>\n",
       "  </thead>\n",
       "  <tbody>\n",
       "    <tr>\n",
       "      <th>Switzerland</th>\n",
       "      <th>2015</th>\n",
       "      <td>1.39651</td>\n",
       "      <td>1.34951</td>\n",
       "      <td>0.94143</td>\n",
       "      <td>0.66557</td>\n",
       "      <td>0.29678</td>\n",
       "      <td>0.41978</td>\n",
       "      <td>7.587</td>\n",
       "      <td>Top</td>\n",
       "      <td>3</td>\n",
       "    </tr>\n",
       "    <tr>\n",
       "      <th>Iceland</th>\n",
       "      <th>2015</th>\n",
       "      <td>1.30232</td>\n",
       "      <td>1.40223</td>\n",
       "      <td>0.94784</td>\n",
       "      <td>0.62877</td>\n",
       "      <td>0.43630</td>\n",
       "      <td>0.14145</td>\n",
       "      <td>7.561</td>\n",
       "      <td>Top</td>\n",
       "      <td>3</td>\n",
       "    </tr>\n",
       "    <tr>\n",
       "      <th>Denmark</th>\n",
       "      <th>2015</th>\n",
       "      <td>1.32548</td>\n",
       "      <td>1.36058</td>\n",
       "      <td>0.87464</td>\n",
       "      <td>0.64938</td>\n",
       "      <td>0.34139</td>\n",
       "      <td>0.48357</td>\n",
       "      <td>7.527</td>\n",
       "      <td>Top</td>\n",
       "      <td>3</td>\n",
       "    </tr>\n",
       "    <tr>\n",
       "      <th>Norway</th>\n",
       "      <th>2015</th>\n",
       "      <td>1.45900</td>\n",
       "      <td>1.33095</td>\n",
       "      <td>0.88521</td>\n",
       "      <td>0.66973</td>\n",
       "      <td>0.34699</td>\n",
       "      <td>0.36503</td>\n",
       "      <td>7.522</td>\n",
       "      <td>Top</td>\n",
       "      <td>3</td>\n",
       "    </tr>\n",
       "    <tr>\n",
       "      <th>Canada</th>\n",
       "      <th>2015</th>\n",
       "      <td>1.32629</td>\n",
       "      <td>1.32261</td>\n",
       "      <td>0.90563</td>\n",
       "      <td>0.63297</td>\n",
       "      <td>0.45811</td>\n",
       "      <td>0.32957</td>\n",
       "      <td>7.427</td>\n",
       "      <td>Top</td>\n",
       "      <td>3</td>\n",
       "    </tr>\n",
       "  </tbody>\n",
       "</table>\n",
       "</div>"
      ],
      "text/plain": [
       "                      GDP   Family     Life  Freedom  Generosity    Trust  \\\n",
       "Country     Year                                                            \n",
       "Switzerland 2015  1.39651  1.34951  0.94143  0.66557     0.29678  0.41978   \n",
       "Iceland     2015  1.30232  1.40223  0.94784  0.62877     0.43630  0.14145   \n",
       "Denmark     2015  1.32548  1.36058  0.87464  0.64938     0.34139  0.48357   \n",
       "Norway      2015  1.45900  1.33095  0.88521  0.66973     0.34699  0.36503   \n",
       "Canada      2015  1.32629  1.32261  0.90563  0.63297     0.45811  0.32957   \n",
       "\n",
       "                  Happiness Score target target_n  \n",
       "Country     Year                                   \n",
       "Switzerland 2015            7.587    Top        3  \n",
       "Iceland     2015            7.561    Top        3  \n",
       "Denmark     2015            7.527    Top        3  \n",
       "Norway      2015            7.522    Top        3  \n",
       "Canada      2015            7.427    Top        3  "
      ]
     },
     "execution_count": 18,
     "metadata": {},
     "output_type": "execute_result"
    }
   ],
   "source": [
    "targets = ['Low', 'Low-mid', 'Top-mid', 'Top' ]\n",
    "h_cols = ['Country', 'GDP', 'Family', 'Life', 'Freedom', 'Generosity', 'Trust']\n",
    "\n",
    "def prep_frame(df_year, year):\n",
    "    df = pd.DataFrame()\n",
    "    #loading 2015,2016,2017 data in one common column\n",
    "    target_cols = []\n",
    "    for c in h_cols:\n",
    "        target_cols.extend([x for x in df_year.columns if c in x])\n",
    "    df[h_cols] = df_year[target_cols]\n",
    "    df['Happiness Score'] = df_year[[x for x in df_year if 'Score' in x]] \n",
    "    \n",
    "    #calcuting quartiles on data\n",
    "    df['target'] = pd.qcut(df[df.columns[-1]], len(targets), labels = targets)\n",
    "    df['target_n'] = pd.qcut(df[df.columns[-2]], len(targets), labels = range(len(targets)))\n",
    "    \n",
    "    # Append year and assign multi index\n",
    "    df['Year'] = year\n",
    "    df = df.set_index(['Country', 'Year'])\n",
    "    return df\n",
    "\n",
    "df = prep_frame(df_2015, 2015)\n",
    "df = df.append(prep_frame(df_2016, 2016))\n",
    "df = df.append(prep_frame(df_2017, 2017))\n",
    "df.head()   \n",
    "        \n"
   ]
  },
  {
   "cell_type": "markdown",
   "metadata": {},
   "source": [
    "#### Need of spearman "
   ]
  },
  {
   "cell_type": "markdown",
   "metadata": {},
   "source": [
    "Doesnot assume data is normally distributed. It varies between -1 and +1 with 0 implying no correlation. Can capture non-linear association as well. "
   ]
  },
  {
   "cell_type": "code",
   "execution_count": 21,
   "metadata": {},
   "outputs": [
    {
     "data": {
      "text/html": [
       "<div>\n",
       "<style scoped>\n",
       "    .dataframe tbody tr th:only-of-type {\n",
       "        vertical-align: middle;\n",
       "    }\n",
       "\n",
       "    .dataframe tbody tr th {\n",
       "        vertical-align: top;\n",
       "    }\n",
       "\n",
       "    .dataframe thead th {\n",
       "        text-align: right;\n",
       "    }\n",
       "</style>\n",
       "<table border=\"1\" class=\"dataframe\">\n",
       "  <thead>\n",
       "    <tr style=\"text-align: right;\">\n",
       "      <th></th>\n",
       "      <th>GDP</th>\n",
       "      <th>Family</th>\n",
       "      <th>Life</th>\n",
       "      <th>Freedom</th>\n",
       "      <th>Generosity</th>\n",
       "      <th>Trust</th>\n",
       "      <th>Happiness Score</th>\n",
       "    </tr>\n",
       "  </thead>\n",
       "  <tbody>\n",
       "    <tr>\n",
       "      <th>GDP</th>\n",
       "      <td>1.000000</td>\n",
       "      <td>0.584480</td>\n",
       "      <td>0.803493</td>\n",
       "      <td>0.374744</td>\n",
       "      <td>0.006568</td>\n",
       "      <td>0.214877</td>\n",
       "      <td>0.800252</td>\n",
       "    </tr>\n",
       "    <tr>\n",
       "      <th>Family</th>\n",
       "      <td>0.584480</td>\n",
       "      <td>1.000000</td>\n",
       "      <td>0.490872</td>\n",
       "      <td>0.454714</td>\n",
       "      <td>0.080144</td>\n",
       "      <td>0.098352</td>\n",
       "      <td>0.627502</td>\n",
       "    </tr>\n",
       "    <tr>\n",
       "      <th>Life</th>\n",
       "      <td>0.803493</td>\n",
       "      <td>0.490872</td>\n",
       "      <td>1.000000</td>\n",
       "      <td>0.382680</td>\n",
       "      <td>0.086622</td>\n",
       "      <td>0.175155</td>\n",
       "      <td>0.760712</td>\n",
       "    </tr>\n",
       "    <tr>\n",
       "      <th>Freedom</th>\n",
       "      <td>0.374744</td>\n",
       "      <td>0.454714</td>\n",
       "      <td>0.382680</td>\n",
       "      <td>1.000000</td>\n",
       "      <td>0.383047</td>\n",
       "      <td>0.458121</td>\n",
       "      <td>0.554569</td>\n",
       "    </tr>\n",
       "    <tr>\n",
       "      <th>Generosity</th>\n",
       "      <td>0.006568</td>\n",
       "      <td>0.080144</td>\n",
       "      <td>0.086622</td>\n",
       "      <td>0.383047</td>\n",
       "      <td>1.000000</td>\n",
       "      <td>0.231411</td>\n",
       "      <td>0.153457</td>\n",
       "    </tr>\n",
       "    <tr>\n",
       "      <th>Trust</th>\n",
       "      <td>0.214877</td>\n",
       "      <td>0.098352</td>\n",
       "      <td>0.175155</td>\n",
       "      <td>0.458121</td>\n",
       "      <td>0.231411</td>\n",
       "      <td>1.000000</td>\n",
       "      <td>0.305066</td>\n",
       "    </tr>\n",
       "    <tr>\n",
       "      <th>Happiness Score</th>\n",
       "      <td>0.800252</td>\n",
       "      <td>0.627502</td>\n",
       "      <td>0.760712</td>\n",
       "      <td>0.554569</td>\n",
       "      <td>0.153457</td>\n",
       "      <td>0.305066</td>\n",
       "      <td>1.000000</td>\n",
       "    </tr>\n",
       "  </tbody>\n",
       "</table>\n",
       "</div>"
      ],
      "text/plain": [
       "                      GDP    Family      Life   Freedom  Generosity     Trust  \\\n",
       "GDP              1.000000  0.584480  0.803493  0.374744    0.006568  0.214877   \n",
       "Family           0.584480  1.000000  0.490872  0.454714    0.080144  0.098352   \n",
       "Life             0.803493  0.490872  1.000000  0.382680    0.086622  0.175155   \n",
       "Freedom          0.374744  0.454714  0.382680  1.000000    0.383047  0.458121   \n",
       "Generosity       0.006568  0.080144  0.086622  0.383047    1.000000  0.231411   \n",
       "Trust            0.214877  0.098352  0.175155  0.458121    0.231411  1.000000   \n",
       "Happiness Score  0.800252  0.627502  0.760712  0.554569    0.153457  0.305066   \n",
       "\n",
       "                 Happiness Score  \n",
       "GDP                     0.800252  \n",
       "Family                  0.627502  \n",
       "Life                    0.760712  \n",
       "Freedom                 0.554569  \n",
       "Generosity              0.153457  \n",
       "Trust                   0.305066  \n",
       "Happiness Score         1.000000  "
      ]
     },
     "execution_count": 21,
     "metadata": {},
     "output_type": "execute_result"
    }
   ],
   "source": [
    "spearman_corrmatrix = df.corr(method = 'spearman')\n",
    "spearman_corrmatrix"
   ]
  },
  {
   "cell_type": "markdown",
   "metadata": {},
   "source": [
    "###### On left is continuous colormap and on right is BINNED map"
   ]
  },
  {
   "cell_type": "code",
   "execution_count": 32,
   "metadata": {},
   "outputs": [
    {
     "data": {
      "image/png": "[encoded data removed]",
      "text/plain": [
       "<Figure size 1728x576 with 4 Axes>"
      ]
     },
     "metadata": {
      "needs_background": "light"
     },
     "output_type": "display_data"
    }
   ],
   "source": [
    "fig, ax = plt.subplots(ncols = 2, figsize = (24,8))\n",
    "\n",
    "m = sns.heatmap(spearman_corrmatrix, annot =True, vmin = -1, vmax = 1, center = 0, ax = ax[0], cmap='BuPu')\n",
    "m.set_yticklabels(df.columns,rotation=0)\n",
    "\n",
    "n = sns.heatmap(spearman_corrmatrix, annot =True, vmin = -0.25, vmax = 1, center=0, ax = ax[1], cmap='BuPu')\n",
    "n = n.set_yticklabels(df.columns,rotation=0)"
   ]
  },
  {
   "cell_type": "code",
   "execution_count": null,
   "metadata": {},
   "outputs": [],
   "source": []
  }
 ],
 "metadata": {
  "kernelspec": {
   "display_name": "Python 3",
   "language": "python",
   "name": "python3"
  },
  "language_info": {
   "codemirror_mode": {
    "name": "ipython",
    "version": 3
   },
   "file_extension": ".py",
   "mimetype": "text/x-python",
   "name": "python",
   "nbconvert_exporter": "python",
   "pygments_lexer": "ipython3",
   "version": "3.7.3"
  }
 },
 "nbformat": 4,
 "nbformat_minor": 2
}
